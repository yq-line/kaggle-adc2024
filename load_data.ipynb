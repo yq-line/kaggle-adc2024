{
 "cells": [
  {
   "cell_type": "code",
   "execution_count": 1,
   "id": "f28866c0",
   "metadata": {
    "_cell_guid": "b1076dfc-b9ad-4769-8c92-a6c4dae69d19",
    "_uuid": "8f2839f25d086af736a60e9eeb907d3b93b6e0e5",
    "execution": {
     "iopub.execute_input": "2024-08-01T16:54:00.394019Z",
     "iopub.status.busy": "2024-08-01T16:54:00.393601Z",
     "iopub.status.idle": "2024-08-01T16:54:01.457688Z",
     "shell.execute_reply": "2024-08-01T16:54:01.456244Z"
    },
    "papermill": {
     "duration": 1.073827,
     "end_time": "2024-08-01T16:54:01.460692",
     "exception": false,
     "start_time": "2024-08-01T16:54:00.386865",
     "status": "completed"
    },
    "tags": []
   },
   "outputs": [],
   "source": [
    "# This Python 3 environment comes with many helpful analytics libraries installed\n",
    "# It is defined by the kaggle/python Docker image: https://github.com/kaggle/docker-python\n",
    "# For example, here's several helpful packages to load\n",
    "\n",
    "import numpy as np # linear algebra\n",
    "import pandas as pd # data processing, CSV file I/O (e.g. pd.read_csv)\n",
    "\n",
    "# Input data files are available in the read-only \"../input/\" directory\n",
    "# For example, running this (by clicking run or pressing Shift+Enter) will list all files under the input directory\n",
    "\n",
    "import os\n",
    "# for dirname, _, filenames in os.walk('/kaggle/input'):\n",
    "#     for filename in filenames:\n",
    "#         print(os.path.join(dirname, filename))\n",
    "\n",
    "# You can write up to 20GB to the current directory (/kaggle/working/) that gets preserved as output when you create a version using \"Save & Run All\" \n",
    "# You can also write temporary files to /kaggle/temp/, but they won't be saved outside of the current session"
   ]
  },
  {
   "cell_type": "code",
   "execution_count": 2,
   "id": "1ffe7ce7",
   "metadata": {
    "execution": {
     "iopub.execute_input": "2024-08-01T16:54:01.472795Z",
     "iopub.status.busy": "2024-08-01T16:54:01.472259Z",
     "iopub.status.idle": "2024-08-01T16:54:05.638338Z",
     "shell.execute_reply": "2024-08-01T16:54:05.637019Z"
    },
    "papermill": {
     "duration": 4.175466,
     "end_time": "2024-08-01T16:54:05.641251",
     "exception": false,
     "start_time": "2024-08-01T16:54:01.465785",
     "status": "completed"
    },
    "tags": []
   },
   "outputs": [],
   "source": [
    "import pyarrow.parquet as pq\n",
    "import torch\n",
    "import torch.nn.functional as F\n",
    "from torch import nn\n",
    "from torch.utils.data import DataLoader, Dataset\n",
    "from torch.optim import AdamW"
   ]
  },
  {
   "cell_type": "code",
   "execution_count": 3,
   "id": "701ae4eb",
   "metadata": {
    "execution": {
     "iopub.execute_input": "2024-08-01T16:54:05.653983Z",
     "iopub.status.busy": "2024-08-01T16:54:05.653376Z",
     "iopub.status.idle": "2024-08-01T16:54:05.659419Z",
     "shell.execute_reply": "2024-08-01T16:54:05.658097Z"
    },
    "papermill": {
     "duration": 0.015756,
     "end_time": "2024-08-01T16:54:05.662384",
     "exception": false,
     "start_time": "2024-08-01T16:54:05.646628",
     "status": "completed"
    },
    "tags": []
   },
   "outputs": [],
   "source": [
    "rd = '/kaggle/input/ariel-data-challenge-2024'"
   ]
  },
  {
   "cell_type": "code",
   "execution_count": 4,
   "id": "c31f258d",
   "metadata": {
    "execution": {
     "iopub.execute_input": "2024-08-01T16:54:05.674295Z",
     "iopub.status.busy": "2024-08-01T16:54:05.673853Z",
     "iopub.status.idle": "2024-08-01T16:54:05.723534Z",
     "shell.execute_reply": "2024-08-01T16:54:05.722208Z"
    },
    "papermill": {
     "duration": 0.058889,
     "end_time": "2024-08-01T16:54:05.726483",
     "exception": false,
     "start_time": "2024-08-01T16:54:05.667594",
     "status": "completed"
    },
    "tags": []
   },
   "outputs": [
    {
     "data": {
      "text/html": [
       "<div>\n",
       "<style scoped>\n",
       "    .dataframe tbody tr th:only-of-type {\n",
       "        vertical-align: middle;\n",
       "    }\n",
       "\n",
       "    .dataframe tbody tr th {\n",
       "        vertical-align: top;\n",
       "    }\n",
       "\n",
       "    .dataframe thead th {\n",
       "        text-align: right;\n",
       "    }\n",
       "</style>\n",
       "<table border=\"1\" class=\"dataframe\">\n",
       "  <thead>\n",
       "    <tr style=\"text-align: right;\">\n",
       "      <th></th>\n",
       "      <th>planet_id</th>\n",
       "      <th>FGS1_adc_offset</th>\n",
       "      <th>FGS1_adc_gain</th>\n",
       "      <th>AIRS-CH0_adc_offset</th>\n",
       "      <th>AIRS-CH0_adc_gain</th>\n",
       "      <th>star</th>\n",
       "    </tr>\n",
       "  </thead>\n",
       "  <tbody>\n",
       "    <tr>\n",
       "      <th>0</th>\n",
       "      <td>785834</td>\n",
       "      <td>-343.335938</td>\n",
       "      <td>0.837244</td>\n",
       "      <td>-778.916533</td>\n",
       "      <td>0.924746</td>\n",
       "      <td>1</td>\n",
       "    </tr>\n",
       "    <tr>\n",
       "      <th>1</th>\n",
       "      <td>14485303</td>\n",
       "      <td>-366.381992</td>\n",
       "      <td>0.842983</td>\n",
       "      <td>-740.323212</td>\n",
       "      <td>0.931727</td>\n",
       "      <td>1</td>\n",
       "    </tr>\n",
       "    <tr>\n",
       "      <th>2</th>\n",
       "      <td>17002355</td>\n",
       "      <td>-386.107037</td>\n",
       "      <td>1.041701</td>\n",
       "      <td>-808.690659</td>\n",
       "      <td>1.513541</td>\n",
       "      <td>0</td>\n",
       "    </tr>\n",
       "    <tr>\n",
       "      <th>3</th>\n",
       "      <td>24135240</td>\n",
       "      <td>-339.737490</td>\n",
       "      <td>0.840239</td>\n",
       "      <td>-776.124167</td>\n",
       "      <td>0.931277</td>\n",
       "      <td>1</td>\n",
       "    </tr>\n",
       "    <tr>\n",
       "      <th>4</th>\n",
       "      <td>25070640</td>\n",
       "      <td>-355.660433</td>\n",
       "      <td>1.041280</td>\n",
       "      <td>-848.371494</td>\n",
       "      <td>1.503923</td>\n",
       "      <td>0</td>\n",
       "    </tr>\n",
       "  </tbody>\n",
       "</table>\n",
       "</div>"
      ],
      "text/plain": [
       "   planet_id  FGS1_adc_offset  FGS1_adc_gain  AIRS-CH0_adc_offset  \\\n",
       "0     785834      -343.335938       0.837244          -778.916533   \n",
       "1   14485303      -366.381992       0.842983          -740.323212   \n",
       "2   17002355      -386.107037       1.041701          -808.690659   \n",
       "3   24135240      -339.737490       0.840239          -776.124167   \n",
       "4   25070640      -355.660433       1.041280          -848.371494   \n",
       "\n",
       "   AIRS-CH0_adc_gain  star  \n",
       "0           0.924746     1  \n",
       "1           0.931727     1  \n",
       "2           1.513541     0  \n",
       "3           0.931277     1  \n",
       "4           1.503923     0  "
      ]
     },
     "execution_count": 4,
     "metadata": {},
     "output_type": "execute_result"
    }
   ],
   "source": [
    "df = pd.read_csv(f'{rd}/train_adc_info.csv')\n",
    "df.head()"
   ]
  },
  {
   "cell_type": "code",
   "execution_count": 5,
   "id": "8cf037e7",
   "metadata": {
    "execution": {
     "iopub.execute_input": "2024-08-01T16:54:05.740087Z",
     "iopub.status.busy": "2024-08-01T16:54:05.739110Z",
     "iopub.status.idle": "2024-08-01T16:54:05.749492Z",
     "shell.execute_reply": "2024-08-01T16:54:05.747911Z"
    },
    "papermill": {
     "duration": 0.020846,
     "end_time": "2024-08-01T16:54:05.752439",
     "exception": false,
     "start_time": "2024-08-01T16:54:05.731593",
     "status": "completed"
    },
    "tags": []
   },
   "outputs": [],
   "source": [
    "planet_ids = list(df['planet_id'].unique())"
   ]
  },
  {
   "cell_type": "code",
   "execution_count": 6,
   "id": "c88cc16c",
   "metadata": {
    "execution": {
     "iopub.execute_input": "2024-08-01T16:54:05.764697Z",
     "iopub.status.busy": "2024-08-01T16:54:05.764293Z",
     "iopub.status.idle": "2024-08-01T16:54:05.770747Z",
     "shell.execute_reply": "2024-08-01T16:54:05.769292Z"
    },
    "papermill": {
     "duration": 0.016071,
     "end_time": "2024-08-01T16:54:05.773678",
     "exception": false,
     "start_time": "2024-08-01T16:54:05.757607",
     "status": "completed"
    },
    "tags": []
   },
   "outputs": [
    {
     "name": "stdout",
     "output_type": "stream",
     "text": [
      "673\n"
     ]
    }
   ],
   "source": [
    "print(len(planet_ids))"
   ]
  },
  {
   "cell_type": "code",
   "execution_count": 7,
   "id": "b15147d7",
   "metadata": {
    "execution": {
     "iopub.execute_input": "2024-08-01T16:54:05.785925Z",
     "iopub.status.busy": "2024-08-01T16:54:05.785508Z",
     "iopub.status.idle": "2024-08-01T16:54:05.820190Z",
     "shell.execute_reply": "2024-08-01T16:54:05.818986Z"
    },
    "papermill": {
     "duration": 0.044478,
     "end_time": "2024-08-01T16:54:05.823280",
     "exception": false,
     "start_time": "2024-08-01T16:54:05.778802",
     "status": "completed"
    },
    "tags": []
   },
   "outputs": [],
   "source": [
    "sample_sub = pd.read_csv(f'{rd}/sample_submission.csv')"
   ]
  },
  {
   "cell_type": "code",
   "execution_count": 8,
   "id": "a9e3789e",
   "metadata": {
    "execution": {
     "iopub.execute_input": "2024-08-01T16:54:05.835404Z",
     "iopub.status.busy": "2024-08-01T16:54:05.834937Z",
     "iopub.status.idle": "2024-08-01T16:54:05.841126Z",
     "shell.execute_reply": "2024-08-01T16:54:05.839577Z"
    },
    "papermill": {
     "duration": 0.015484,
     "end_time": "2024-08-01T16:54:05.844016",
     "exception": false,
     "start_time": "2024-08-01T16:54:05.828532",
     "status": "completed"
    },
    "tags": []
   },
   "outputs": [],
   "source": [
    "LABELS = list(sample_sub.columns[1:])"
   ]
  },
  {
   "cell_type": "code",
   "execution_count": 9,
   "id": "ff937b6b",
   "metadata": {
    "execution": {
     "iopub.execute_input": "2024-08-01T16:54:05.856414Z",
     "iopub.status.busy": "2024-08-01T16:54:05.855939Z",
     "iopub.status.idle": "2024-08-01T16:54:05.986503Z",
     "shell.execute_reply": "2024-08-01T16:54:05.985265Z"
    },
    "papermill": {
     "duration": 0.140128,
     "end_time": "2024-08-01T16:54:05.989292",
     "exception": false,
     "start_time": "2024-08-01T16:54:05.849164",
     "status": "completed"
    },
    "tags": []
   },
   "outputs": [],
   "source": [
    "parquet_file = pq.ParquetFile('/kaggle/input/ariel-data-challenge-2024/axis_info.parquet')\n",
    "data = parquet_file.read().to_pandas()"
   ]
  },
  {
   "cell_type": "code",
   "execution_count": 10,
   "id": "e7fe59ec",
   "metadata": {
    "execution": {
     "iopub.execute_input": "2024-08-01T16:54:06.002230Z",
     "iopub.status.busy": "2024-08-01T16:54:06.001771Z",
     "iopub.status.idle": "2024-08-01T16:54:06.011748Z",
     "shell.execute_reply": "2024-08-01T16:54:06.010415Z"
    },
    "papermill": {
     "duration": 0.020268,
     "end_time": "2024-08-01T16:54:06.014798",
     "exception": false,
     "start_time": "2024-08-01T16:54:05.994530",
     "status": "completed"
    },
    "tags": []
   },
   "outputs": [
    {
     "name": "stdout",
     "output_type": "stream",
     "text": [
      "   AIRS-CH0-axis0-h  AIRS-CH0-axis2-um  AIRS-CH0-integration_time  \\\n",
      "0          0.000028           4.078463                        0.1   \n",
      "1          0.000056           4.074023                        4.5   \n",
      "2          0.001361           4.069568                        0.1   \n",
      "3          0.001389           4.065100                        4.5   \n",
      "4          0.002694           4.060618                        0.1   \n",
      "\n",
      "   FGS1-axis0-h  \n",
      "0      0.000028  \n",
      "1      0.000056  \n",
      "2      0.000139  \n",
      "3      0.000167  \n",
      "4      0.000250  \n"
     ]
    }
   ],
   "source": [
    "print(data.head())"
   ]
  },
  {
   "cell_type": "code",
   "execution_count": 11,
   "id": "6b2bb0fa",
   "metadata": {
    "execution": {
     "iopub.execute_input": "2024-08-01T16:54:06.027041Z",
     "iopub.status.busy": "2024-08-01T16:54:06.026633Z",
     "iopub.status.idle": "2024-08-01T16:54:06.040532Z",
     "shell.execute_reply": "2024-08-01T16:54:06.039089Z"
    },
    "papermill": {
     "duration": 0.023695,
     "end_time": "2024-08-01T16:54:06.043779",
     "exception": false,
     "start_time": "2024-08-01T16:54:06.020084",
     "status": "completed"
    },
    "tags": []
   },
   "outputs": [],
   "source": [
    "sample_sub.to_csv('submission.csv', index=False)"
   ]
  }
 ],
 "metadata": {
  "kaggle": {
   "accelerator": "none",
   "dataSources": [
    {
     "databundleVersionId": 9188054,
     "sourceId": 70367,
     "sourceType": "competition"
    }
   ],
   "dockerImageVersionId": 30746,
   "isGpuEnabled": false,
   "isInternetEnabled": false,
   "language": "python",
   "sourceType": "notebook"
  },
  "kernelspec": {
   "display_name": "Python 3",
   "language": "python",
   "name": "python3"
  },
  "language_info": {
   "codemirror_mode": {
    "name": "ipython",
    "version": 3
   },
   "file_extension": ".py",
   "mimetype": "text/x-python",
   "name": "python",
   "nbconvert_exporter": "python",
   "pygments_lexer": "ipython3",
   "version": "3.10.13"
  },
  "papermill": {
   "default_parameters": {},
   "duration": 10.152796,
   "end_time": "2024-08-01T16:54:07.174803",
   "environment_variables": {},
   "exception": null,
   "input_path": "__notebook__.ipynb",
   "output_path": "__notebook__.ipynb",
   "parameters": {},
   "start_time": "2024-08-01T16:53:57.022007",
   "version": "2.5.0"
  }
 },
 "nbformat": 4,
 "nbformat_minor": 5
}
