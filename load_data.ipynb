{
 "cells": [
  {
   "cell_type": "code",
   "execution_count": 1,
   "id": "b665df92",
   "metadata": {
    "_cell_guid": "b1076dfc-b9ad-4769-8c92-a6c4dae69d19",
    "_uuid": "8f2839f25d086af736a60e9eeb907d3b93b6e0e5",
    "execution": {
     "iopub.execute_input": "2024-08-01T16:52:33.070234Z",
     "iopub.status.busy": "2024-08-01T16:52:33.069529Z",
     "iopub.status.idle": "2024-08-01T16:52:33.917885Z",
     "shell.execute_reply": "2024-08-01T16:52:33.916744Z"
    },
    "papermill": {
     "duration": 0.856792,
     "end_time": "2024-08-01T16:52:33.920564",
     "exception": false,
     "start_time": "2024-08-01T16:52:33.063772",
     "status": "completed"
    },
    "tags": []
   },
   "outputs": [],
   "source": [
    "# This Python 3 environment comes with many helpful analytics libraries installed\n",
    "# It is defined by the kaggle/python Docker image: https://github.com/kaggle/docker-python\n",
    "# For example, here's several helpful packages to load\n",
    "\n",
    "import numpy as np # linear algebra\n",
    "import pandas as pd # data processing, CSV file I/O (e.g. pd.read_csv)\n",
    "\n",
    "# Input data files are available in the read-only \"../input/\" directory\n",
    "# For example, running this (by clicking run or pressing Shift+Enter) will list all files under the input directory\n",
    "\n",
    "import os\n",
    "# for dirname, _, filenames in os.walk('/kaggle/input'):\n",
    "#     for filename in filenames:\n",
    "#         print(os.path.join(dirname, filename))\n",
    "\n",
    "# You can write up to 20GB to the current directory (/kaggle/working/) that gets preserved as output when you create a version using \"Save & Run All\" \n",
    "# You can also write temporary files to /kaggle/temp/, but they won't be saved outside of the current session"
   ]
  },
  {
   "cell_type": "code",
   "execution_count": 2,
   "id": "80a372a7",
   "metadata": {
    "execution": {
     "iopub.execute_input": "2024-08-01T16:52:33.930440Z",
     "iopub.status.busy": "2024-08-01T16:52:33.929583Z",
     "iopub.status.idle": "2024-08-01T16:52:37.325156Z",
     "shell.execute_reply": "2024-08-01T16:52:37.323990Z"
    },
    "papermill": {
     "duration": 3.402756,
     "end_time": "2024-08-01T16:52:37.327732",
     "exception": false,
     "start_time": "2024-08-01T16:52:33.924976",
     "status": "completed"
    },
    "tags": []
   },
   "outputs": [],
   "source": [
    "import pyarrow.parquet as pq\n",
    "import torch\n",
    "import torch.nn.functional as F\n",
    "from torch import nn\n",
    "from torch.utils.data import DataLoader, Dataset\n",
    "from torch.optim import AdamW"
   ]
  },
  {
   "cell_type": "code",
   "execution_count": 3,
   "id": "e7b1af79",
   "metadata": {
    "execution": {
     "iopub.execute_input": "2024-08-01T16:52:37.336626Z",
     "iopub.status.busy": "2024-08-01T16:52:37.336124Z",
     "iopub.status.idle": "2024-08-01T16:52:37.340900Z",
     "shell.execute_reply": "2024-08-01T16:52:37.339790Z"
    },
    "papermill": {
     "duration": 0.012077,
     "end_time": "2024-08-01T16:52:37.343406",
     "exception": false,
     "start_time": "2024-08-01T16:52:37.331329",
     "status": "completed"
    },
    "tags": []
   },
   "outputs": [],
   "source": [
    "rd = '/kaggle/input/ariel-data-challenge-2024'"
   ]
  },
  {
   "cell_type": "code",
   "execution_count": 4,
   "id": "18e87062",
   "metadata": {
    "execution": {
     "iopub.execute_input": "2024-08-01T16:52:37.352455Z",
     "iopub.status.busy": "2024-08-01T16:52:37.352021Z",
     "iopub.status.idle": "2024-08-01T16:52:37.392552Z",
     "shell.execute_reply": "2024-08-01T16:52:37.391329Z"
    },
    "papermill": {
     "duration": 0.048422,
     "end_time": "2024-08-01T16:52:37.395539",
     "exception": false,
     "start_time": "2024-08-01T16:52:37.347117",
     "status": "completed"
    },
    "tags": []
   },
   "outputs": [
    {
     "data": {
      "text/html": [
       "<div>\n",
       "<style scoped>\n",
       "    .dataframe tbody tr th:only-of-type {\n",
       "        vertical-align: middle;\n",
       "    }\n",
       "\n",
       "    .dataframe tbody tr th {\n",
       "        vertical-align: top;\n",
       "    }\n",
       "\n",
       "    .dataframe thead th {\n",
       "        text-align: right;\n",
       "    }\n",
       "</style>\n",
       "<table border=\"1\" class=\"dataframe\">\n",
       "  <thead>\n",
       "    <tr style=\"text-align: right;\">\n",
       "      <th></th>\n",
       "      <th>planet_id</th>\n",
       "      <th>FGS1_adc_offset</th>\n",
       "      <th>FGS1_adc_gain</th>\n",
       "      <th>AIRS-CH0_adc_offset</th>\n",
       "      <th>AIRS-CH0_adc_gain</th>\n",
       "      <th>star</th>\n",
       "    </tr>\n",
       "  </thead>\n",
       "  <tbody>\n",
       "    <tr>\n",
       "      <th>0</th>\n",
       "      <td>785834</td>\n",
       "      <td>-343.335938</td>\n",
       "      <td>0.837244</td>\n",
       "      <td>-778.916533</td>\n",
       "      <td>0.924746</td>\n",
       "      <td>1</td>\n",
       "    </tr>\n",
       "    <tr>\n",
       "      <th>1</th>\n",
       "      <td>14485303</td>\n",
       "      <td>-366.381992</td>\n",
       "      <td>0.842983</td>\n",
       "      <td>-740.323212</td>\n",
       "      <td>0.931727</td>\n",
       "      <td>1</td>\n",
       "    </tr>\n",
       "    <tr>\n",
       "      <th>2</th>\n",
       "      <td>17002355</td>\n",
       "      <td>-386.107037</td>\n",
       "      <td>1.041701</td>\n",
       "      <td>-808.690659</td>\n",
       "      <td>1.513541</td>\n",
       "      <td>0</td>\n",
       "    </tr>\n",
       "    <tr>\n",
       "      <th>3</th>\n",
       "      <td>24135240</td>\n",
       "      <td>-339.737490</td>\n",
       "      <td>0.840239</td>\n",
       "      <td>-776.124167</td>\n",
       "      <td>0.931277</td>\n",
       "      <td>1</td>\n",
       "    </tr>\n",
       "    <tr>\n",
       "      <th>4</th>\n",
       "      <td>25070640</td>\n",
       "      <td>-355.660433</td>\n",
       "      <td>1.041280</td>\n",
       "      <td>-848.371494</td>\n",
       "      <td>1.503923</td>\n",
       "      <td>0</td>\n",
       "    </tr>\n",
       "  </tbody>\n",
       "</table>\n",
       "</div>"
      ],
      "text/plain": [
       "   planet_id  FGS1_adc_offset  FGS1_adc_gain  AIRS-CH0_adc_offset  \\\n",
       "0     785834      -343.335938       0.837244          -778.916533   \n",
       "1   14485303      -366.381992       0.842983          -740.323212   \n",
       "2   17002355      -386.107037       1.041701          -808.690659   \n",
       "3   24135240      -339.737490       0.840239          -776.124167   \n",
       "4   25070640      -355.660433       1.041280          -848.371494   \n",
       "\n",
       "   AIRS-CH0_adc_gain  star  \n",
       "0           0.924746     1  \n",
       "1           0.931727     1  \n",
       "2           1.513541     0  \n",
       "3           0.931277     1  \n",
       "4           1.503923     0  "
      ]
     },
     "execution_count": 4,
     "metadata": {},
     "output_type": "execute_result"
    }
   ],
   "source": [
    "df = pd.read_csv(f'{rd}/train_adc_info.csv')\n",
    "df.head()"
   ]
  },
  {
   "cell_type": "code",
   "execution_count": 5,
   "id": "02db148b",
   "metadata": {
    "execution": {
     "iopub.execute_input": "2024-08-01T16:52:37.404964Z",
     "iopub.status.busy": "2024-08-01T16:52:37.404562Z",
     "iopub.status.idle": "2024-08-01T16:52:37.412844Z",
     "shell.execute_reply": "2024-08-01T16:52:37.411769Z"
    },
    "papermill": {
     "duration": 0.015511,
     "end_time": "2024-08-01T16:52:37.415060",
     "exception": false,
     "start_time": "2024-08-01T16:52:37.399549",
     "status": "completed"
    },
    "tags": []
   },
   "outputs": [],
   "source": [
    "planet_ids = list(df['planet_id'].unique())"
   ]
  },
  {
   "cell_type": "code",
   "execution_count": 6,
   "id": "6dc4c7e1",
   "metadata": {
    "execution": {
     "iopub.execute_input": "2024-08-01T16:52:37.424536Z",
     "iopub.status.busy": "2024-08-01T16:52:37.424152Z",
     "iopub.status.idle": "2024-08-01T16:52:37.429723Z",
     "shell.execute_reply": "2024-08-01T16:52:37.428650Z"
    },
    "papermill": {
     "duration": 0.012966,
     "end_time": "2024-08-01T16:52:37.431966",
     "exception": false,
     "start_time": "2024-08-01T16:52:37.419000",
     "status": "completed"
    },
    "tags": []
   },
   "outputs": [
    {
     "name": "stdout",
     "output_type": "stream",
     "text": [
      "673\n"
     ]
    }
   ],
   "source": [
    "print(len(planet_ids))"
   ]
  },
  {
   "cell_type": "code",
   "execution_count": 7,
   "id": "1206c45b",
   "metadata": {
    "execution": {
     "iopub.execute_input": "2024-08-01T16:52:37.441877Z",
     "iopub.status.busy": "2024-08-01T16:52:37.440913Z",
     "iopub.status.idle": "2024-08-01T16:52:37.465660Z",
     "shell.execute_reply": "2024-08-01T16:52:37.464483Z"
    },
    "papermill": {
     "duration": 0.032307,
     "end_time": "2024-08-01T16:52:37.468136",
     "exception": false,
     "start_time": "2024-08-01T16:52:37.435829",
     "status": "completed"
    },
    "tags": []
   },
   "outputs": [],
   "source": [
    "sample_sub = pd.read_csv(f'{rd}/sample_submission.csv')"
   ]
  },
  {
   "cell_type": "code",
   "execution_count": 8,
   "id": "a29b3eca",
   "metadata": {
    "execution": {
     "iopub.execute_input": "2024-08-01T16:52:37.477691Z",
     "iopub.status.busy": "2024-08-01T16:52:37.477325Z",
     "iopub.status.idle": "2024-08-01T16:52:37.482304Z",
     "shell.execute_reply": "2024-08-01T16:52:37.481125Z"
    },
    "papermill": {
     "duration": 0.012447,
     "end_time": "2024-08-01T16:52:37.484480",
     "exception": false,
     "start_time": "2024-08-01T16:52:37.472033",
     "status": "completed"
    },
    "tags": []
   },
   "outputs": [],
   "source": [
    "LABELS = list(sample_sub.columns[1:])"
   ]
  },
  {
   "cell_type": "code",
   "execution_count": 9,
   "id": "75ca427c",
   "metadata": {
    "execution": {
     "iopub.execute_input": "2024-08-01T16:52:37.493581Z",
     "iopub.status.busy": "2024-08-01T16:52:37.493229Z",
     "iopub.status.idle": "2024-08-01T16:52:37.563838Z",
     "shell.execute_reply": "2024-08-01T16:52:37.562752Z"
    },
    "papermill": {
     "duration": 0.078016,
     "end_time": "2024-08-01T16:52:37.566330",
     "exception": false,
     "start_time": "2024-08-01T16:52:37.488314",
     "status": "completed"
    },
    "tags": []
   },
   "outputs": [],
   "source": [
    "parquet_file = pq.ParquetFile('/kaggle/input/ariel-data-challenge-2024/axis_info.parquet')\n",
    "data = parquet_file.read().to_pandas()"
   ]
  },
  {
   "cell_type": "code",
   "execution_count": 10,
   "id": "bce75e9f",
   "metadata": {
    "execution": {
     "iopub.execute_input": "2024-08-01T16:52:37.576662Z",
     "iopub.status.busy": "2024-08-01T16:52:37.575878Z",
     "iopub.status.idle": "2024-08-01T16:52:37.583997Z",
     "shell.execute_reply": "2024-08-01T16:52:37.582888Z"
    },
    "papermill": {
     "duration": 0.016512,
     "end_time": "2024-08-01T16:52:37.586774",
     "exception": false,
     "start_time": "2024-08-01T16:52:37.570262",
     "status": "completed"
    },
    "tags": []
   },
   "outputs": [
    {
     "name": "stdout",
     "output_type": "stream",
     "text": [
      "   AIRS-CH0-axis0-h  AIRS-CH0-axis2-um  AIRS-CH0-integration_time  \\\n",
      "0          0.000028           4.078463                        0.1   \n",
      "1          0.000056           4.074023                        4.5   \n",
      "2          0.001361           4.069568                        0.1   \n",
      "3          0.001389           4.065100                        4.5   \n",
      "4          0.002694           4.060618                        0.1   \n",
      "\n",
      "   FGS1-axis0-h  \n",
      "0      0.000028  \n",
      "1      0.000056  \n",
      "2      0.000139  \n",
      "3      0.000167  \n",
      "4      0.000250  \n"
     ]
    }
   ],
   "source": [
    "print(data.head())"
   ]
  },
  {
   "cell_type": "code",
   "execution_count": 11,
   "id": "b00ad9eb",
   "metadata": {
    "execution": {
     "iopub.execute_input": "2024-08-01T16:52:37.595931Z",
     "iopub.status.busy": "2024-08-01T16:52:37.595452Z",
     "iopub.status.idle": "2024-08-01T16:52:37.607797Z",
     "shell.execute_reply": "2024-08-01T16:52:37.606757Z"
    },
    "papermill": {
     "duration": 0.020051,
     "end_time": "2024-08-01T16:52:37.610619",
     "exception": false,
     "start_time": "2024-08-01T16:52:37.590568",
     "status": "completed"
    },
    "tags": []
   },
   "outputs": [],
   "source": [
    "sample_sub.to_csv('submission.csv', index=False)"
   ]
  }
 ],
 "metadata": {
  "kaggle": {
   "accelerator": "none",
   "dataSources": [
    {
     "databundleVersionId": 9188054,
     "sourceId": 70367,
     "sourceType": "competition"
    }
   ],
   "dockerImageVersionId": 30746,
   "isGpuEnabled": false,
   "isInternetEnabled": true,
   "language": "python",
   "sourceType": "notebook"
  },
  "kernelspec": {
   "display_name": "Python 3",
   "language": "python",
   "name": "python3"
  },
  "language_info": {
   "codemirror_mode": {
    "name": "ipython",
    "version": 3
   },
   "file_extension": ".py",
   "mimetype": "text/x-python",
   "name": "python",
   "nbconvert_exporter": "python",
   "pygments_lexer": "ipython3",
   "version": "3.10.13"
  },
  "papermill": {
   "default_parameters": {},
   "duration": 8.32552,
   "end_time": "2024-08-01T16:52:38.536913",
   "environment_variables": {},
   "exception": null,
   "input_path": "__notebook__.ipynb",
   "output_path": "__notebook__.ipynb",
   "parameters": {},
   "start_time": "2024-08-01T16:52:30.211393",
   "version": "2.5.0"
  }
 },
 "nbformat": 4,
 "nbformat_minor": 5
}
