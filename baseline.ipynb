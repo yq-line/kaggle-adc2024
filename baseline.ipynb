{
 "cells": [
  {
   "cell_type": "markdown",
   "id": "3b0be122",
   "metadata": {
    "_cell_guid": "b1076dfc-b9ad-4769-8c92-a6c4dae69d19",
    "_uuid": "8f2839f25d086af736a60e9eeb907d3b93b6e0e5",
    "papermill": {
     "duration": 0.002558,
     "end_time": "2024-08-05T11:23:51.138144",
     "exception": false,
     "start_time": "2024-08-05T11:23:51.135586",
     "status": "completed"
    },
    "tags": []
   },
   "source": [
    "# Ariel Data Challenge 2024: Introductory model: inference\n",
    "\n",
    "In this notebook, we compute test predictions using the model saved in [ADC24 Intro training](https://www.kaggle.com/code/ambrosm/adc24-intro-training).\n",
    "\n",
    "<img width=\"700\" src=\"https://www.ariel-datachallenge.space/static/images/transit_situation.png\" />\n",
    "\n",
    "This image has been taken from [last year's competition](https://www.ariel-datachallenge.space/ML/documentation/about). It shows how a planet transits in front of its star and how this transit maps to the lightcurve (a dip in the brightness of the star). This dip is directly proportional to the ratio of the areas of the planet and star. It's this ratio (the \"transit depth\") that we are modeling in the present notebook.\n",
    "\n",
    "The present notebook is simple:\n",
    "- It reads the pre- and postprocessing code, which is the same as the code used for training.\n",
    "- It reads the test data.\n",
    "- It reads the saved model.\n",
    "- It executes the prediction pipeline and saves the submission file.\n",
    "\n",
    "The real work was done in the [training notebook](https://www.kaggle.com/code/ambrosm/adc24-intro-training)!"
   ]
  },
  {
   "cell_type": "code",
   "execution_count": 1,
   "id": "27fe0cdb",
   "metadata": {
    "_kg_hide-input": true,
    "execution": {
     "iopub.execute_input": "2024-08-05T11:23:51.144492Z",
     "iopub.status.busy": "2024-08-05T11:23:51.144065Z",
     "iopub.status.idle": "2024-08-05T11:23:53.341262Z",
     "shell.execute_reply": "2024-08-05T11:23:53.339920Z"
    },
    "papermill": {
     "duration": 2.203503,
     "end_time": "2024-08-05T11:23:53.343938",
     "exception": false,
     "start_time": "2024-08-05T11:23:51.140435",
     "status": "completed"
    },
    "tags": []
   },
   "outputs": [],
   "source": [
    "import pandas as pd\n",
    "import polars as pl\n",
    "import matplotlib.pyplot as plt\n",
    "import numpy as np\n",
    "import scipy.stats\n",
    "from tqdm import tqdm\n",
    "import pickle\n",
    "\n",
    "from sklearn.linear_model import Ridge\n"
   ]
  },
  {
   "cell_type": "code",
   "execution_count": 2,
   "id": "11b9eeb5",
   "metadata": {
    "_kg_hide-input": false,
    "execution": {
     "iopub.execute_input": "2024-08-05T11:23:53.350712Z",
     "iopub.status.busy": "2024-08-05T11:23:53.349689Z",
     "iopub.status.idle": "2024-08-05T11:23:53.372453Z",
     "shell.execute_reply": "2024-08-05T11:23:53.371338Z"
    },
    "papermill": {
     "duration": 0.028604,
     "end_time": "2024-08-05T11:23:53.374918",
     "exception": false,
     "start_time": "2024-08-05T11:23:53.346314",
     "status": "completed"
    },
    "tags": []
   },
   "outputs": [],
   "source": [
    "directory = \"/kaggle/input/adc24-intro-training/\"\n",
    "\n",
    "exec(open(directory + 'f_read_and_preprocess.py', 'r').read())\n",
    "exec(open(directory + 'a_read_and_preprocess.py', 'r').read())\n",
    "exec(open(directory + 'feature_engineering.py', 'r').read())\n",
    "exec(open(directory + 'postprocessing.py', 'r').read())\n"
   ]
  },
  {
   "cell_type": "code",
   "execution_count": 3,
   "id": "6be3101c",
   "metadata": {
    "execution": {
     "iopub.execute_input": "2024-08-05T11:23:53.381171Z",
     "iopub.status.busy": "2024-08-05T11:23:53.380659Z",
     "iopub.status.idle": "2024-08-05T11:23:56.403869Z",
     "shell.execute_reply": "2024-08-05T11:23:56.402297Z"
    },
    "papermill": {
     "duration": 3.02926,
     "end_time": "2024-08-05T11:23:56.406529",
     "exception": false,
     "start_time": "2024-08-05T11:23:53.377269",
     "status": "completed"
    },
    "tags": []
   },
   "outputs": [
    {
     "name": "stderr",
     "output_type": "stream",
     "text": [
      "100%|██████████| 1/1 [00:01<00:00,  1.31s/it]\n",
      "100%|██████████| 1/1 [00:01<00:00,  1.57s/it]\n"
     ]
    },
    {
     "data": {
      "text/html": [
       "<div>\n",
       "<style scoped>\n",
       "    .dataframe tbody tr th:only-of-type {\n",
       "        vertical-align: middle;\n",
       "    }\n",
       "\n",
       "    .dataframe tbody tr th {\n",
       "        vertical-align: top;\n",
       "    }\n",
       "\n",
       "    .dataframe thead th {\n",
       "        text-align: right;\n",
       "    }\n",
       "</style>\n",
       "<table border=\"1\" class=\"dataframe\">\n",
       "  <thead>\n",
       "    <tr style=\"text-align: right;\">\n",
       "      <th></th>\n",
       "      <th>wl_1</th>\n",
       "      <th>wl_2</th>\n",
       "      <th>wl_3</th>\n",
       "      <th>wl_4</th>\n",
       "      <th>wl_5</th>\n",
       "      <th>wl_6</th>\n",
       "      <th>wl_7</th>\n",
       "      <th>wl_8</th>\n",
       "      <th>wl_9</th>\n",
       "      <th>wl_10</th>\n",
       "      <th>...</th>\n",
       "      <th>sigma_274</th>\n",
       "      <th>sigma_275</th>\n",
       "      <th>sigma_276</th>\n",
       "      <th>sigma_277</th>\n",
       "      <th>sigma_278</th>\n",
       "      <th>sigma_279</th>\n",
       "      <th>sigma_280</th>\n",
       "      <th>sigma_281</th>\n",
       "      <th>sigma_282</th>\n",
       "      <th>sigma_283</th>\n",
       "    </tr>\n",
       "    <tr>\n",
       "      <th>planet_id</th>\n",
       "      <th></th>\n",
       "      <th></th>\n",
       "      <th></th>\n",
       "      <th></th>\n",
       "      <th></th>\n",
       "      <th></th>\n",
       "      <th></th>\n",
       "      <th></th>\n",
       "      <th></th>\n",
       "      <th></th>\n",
       "      <th></th>\n",
       "      <th></th>\n",
       "      <th></th>\n",
       "      <th></th>\n",
       "      <th></th>\n",
       "      <th></th>\n",
       "      <th></th>\n",
       "      <th></th>\n",
       "      <th></th>\n",
       "      <th></th>\n",
       "      <th></th>\n",
       "    </tr>\n",
       "  </thead>\n",
       "  <tbody>\n",
       "    <tr>\n",
       "      <th>499191466</th>\n",
       "      <td>0.002819</td>\n",
       "      <td>0.002847</td>\n",
       "      <td>0.002841</td>\n",
       "      <td>0.002836</td>\n",
       "      <td>0.002839</td>\n",
       "      <td>0.002831</td>\n",
       "      <td>0.00283</td>\n",
       "      <td>0.002838</td>\n",
       "      <td>0.002835</td>\n",
       "      <td>0.002831</td>\n",
       "      <td>...</td>\n",
       "      <td>0.000293</td>\n",
       "      <td>0.000293</td>\n",
       "      <td>0.000293</td>\n",
       "      <td>0.000293</td>\n",
       "      <td>0.000293</td>\n",
       "      <td>0.000293</td>\n",
       "      <td>0.000293</td>\n",
       "      <td>0.000293</td>\n",
       "      <td>0.000293</td>\n",
       "      <td>0.000293</td>\n",
       "    </tr>\n",
       "  </tbody>\n",
       "</table>\n",
       "<p>1 rows × 566 columns</p>\n",
       "</div>"
      ],
      "text/plain": [
       "               wl_1      wl_2      wl_3      wl_4      wl_5      wl_6  \\\n",
       "planet_id                                                               \n",
       "499191466  0.002819  0.002847  0.002841  0.002836  0.002839  0.002831   \n",
       "\n",
       "              wl_7      wl_8      wl_9     wl_10  ...  sigma_274  sigma_275  \\\n",
       "planet_id                                         ...                         \n",
       "499191466  0.00283  0.002838  0.002835  0.002831  ...   0.000293   0.000293   \n",
       "\n",
       "           sigma_276  sigma_277  sigma_278  sigma_279  sigma_280  sigma_281  \\\n",
       "planet_id                                                                     \n",
       "499191466   0.000293   0.000293   0.000293   0.000293   0.000293   0.000293   \n",
       "\n",
       "           sigma_282  sigma_283  \n",
       "planet_id                        \n",
       "499191466   0.000293   0.000293  \n",
       "\n",
       "[1 rows x 566 columns]"
      ]
     },
     "metadata": {},
     "output_type": "display_data"
    }
   ],
   "source": [
    "# Load the data\n",
    "wavelengths = pd.read_csv('/kaggle/input/ariel-data-challenge-2024/wavelengths.csv')\n",
    "test_adc_info = pd.read_csv('/kaggle/input/ariel-data-challenge-2024/test_adc_info.csv',\n",
    "                           index_col='planet_id')\n",
    "sample_submission = pd.read_csv('/kaggle/input/ariel-data-challenge-2024/sample_submission.csv',\n",
    "                                index_col='planet_id')\n",
    "f_raw_test = f_read_and_preprocess('test', test_adc_info, sample_submission.index)\n",
    "a_raw_test = a_read_and_preprocess('test', test_adc_info, sample_submission.index)\n",
    "test = feature_engineering(f_raw_test, a_raw_test)\n",
    "\n",
    "# Load the model\n",
    "with open(directory + 'model.pickle', 'rb') as f:\n",
    "    model = pickle.load(f)\n",
    "with open(directory + 'sigma_pred.pickle', 'rb') as f:\n",
    "    sigma_pred = pickle.load(f)\n",
    "    \n",
    "# Predict\n",
    "test_pred = model.predict(test)\n",
    "\n",
    "# Package into submission file\n",
    "sub_df = postprocessing(test_pred, sample_submission.index, sigma_pred=0.00029334213751992073)\n",
    "display(sub_df)\n",
    "sub_df.to_csv('submission.csv')\n",
    "#!head submission.csv"
   ]
  },
  {
   "cell_type": "code",
   "execution_count": null,
   "id": "613d2491",
   "metadata": {
    "papermill": {
     "duration": 0.002858,
     "end_time": "2024-08-05T11:23:56.412708",
     "exception": false,
     "start_time": "2024-08-05T11:23:56.409850",
     "status": "completed"
    },
    "tags": []
   },
   "outputs": [],
   "source": []
  }
 ],
 "metadata": {
  "kaggle": {
   "accelerator": "none",
   "dataSources": [
    {
     "databundleVersionId": 9188054,
     "sourceId": 70367,
     "sourceType": "competition"
    },
    {
     "sourceId": 191155259,
     "sourceType": "kernelVersion"
    }
   ],
   "dockerImageVersionId": 30746,
   "isGpuEnabled": false,
   "isInternetEnabled": false,
   "language": "python",
   "sourceType": "notebook"
  },
  "kernelspec": {
   "display_name": "Python 3",
   "language": "python",
   "name": "python3"
  },
  "language_info": {
   "codemirror_mode": {
    "name": "ipython",
    "version": 3
   },
   "file_extension": ".py",
   "mimetype": "text/x-python",
   "name": "python",
   "nbconvert_exporter": "python",
   "pygments_lexer": "ipython3",
   "version": "3.10.13"
  },
  "papermill": {
   "default_parameters": {},
   "duration": 8.462945,
   "end_time": "2024-08-05T11:23:57.035929",
   "environment_variables": {},
   "exception": null,
   "input_path": "__notebook__.ipynb",
   "output_path": "__notebook__.ipynb",
   "parameters": {},
   "start_time": "2024-08-05T11:23:48.572984",
   "version": "2.5.0"
  }
 },
 "nbformat": 4,
 "nbformat_minor": 5
}
